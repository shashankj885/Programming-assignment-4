{
 "cells": [
  {
   "cell_type": "code",
   "execution_count": 28,
   "id": "a8192f88",
   "metadata": {
    "scrolled": true
   },
   "outputs": [
    {
     "name": "stdout",
     "output_type": "stream",
     "text": [
      "entre a value whose factorial needs to determine=10\n",
      "3628800\n"
     ]
    }
   ],
   "source": [
    "i=int(input(\"entre a value whose factorial needs to determine=\"))\n",
    "j=range(1,i+1)\n",
    "if i>=0:\n",
    "    if i==0:\n",
    "        print(1)\n",
    "    if i>0:\n",
    "        n=1\n",
    "        for k in j:\n",
    "            k=k*n\n",
    "            n=k\n",
    "        print(k)\n",
    "else:\n",
    "    print(\"Try Again\")"
   ]
  },
  {
   "cell_type": "code",
   "execution_count": 29,
   "id": "1c0fdfd4",
   "metadata": {},
   "outputs": [
    {
     "name": "stdout",
     "output_type": "stream",
     "text": [
      "print a multiplication table of  15\n",
      "15 x 1 = 15\n",
      "15 x 2 = 30\n",
      "15 x 3 = 45\n",
      "15 x 4 = 60\n",
      "15 x 5 = 75\n",
      "15 x 6 = 90\n",
      "15 x 7 = 105\n",
      "15 x 8 = 120\n",
      "15 x 9 = 135\n",
      "15 x 10 = 150\n"
     ]
    }
   ],
   "source": [
    "n=int(input(\"print a multiplication table of  \"))\n",
    "i=range(1,11)\n",
    "if n>0:\n",
    "    for k in i:\n",
    "        y=n*k\n",
    "        print(n,\"x\",k,\"=\",y)"
   ]
  },
  {
   "cell_type": "code",
   "execution_count": 25,
   "id": "9082fd8d",
   "metadata": {},
   "outputs": [
    {
     "name": "stdout",
     "output_type": "stream",
     "text": [
      "Enter a value for fibonacci series=10\n",
      "0\n",
      "1\n",
      "1\n",
      "2\n",
      "3\n",
      "5\n",
      "8\n",
      "13\n",
      "21\n",
      "34\n"
     ]
    }
   ],
   "source": [
    "m=int(input(\"Enter a value for fibonacci series=\"))\n",
    "v=0\n",
    "u=1\n",
    "if m<=0:\n",
    "    print('Enter a positive non zero no.')\n",
    "elif m==1:\n",
    "    print(v,end=\"\\n\")\n",
    "else :\n",
    "    print(v,end=\"\\n\")\n",
    "    print(u,end=\"\\n\")\n",
    "    for i in range(2,m):\n",
    "        i=u+v\n",
    "        print(i,end=\"\\n\")\n",
    "        v=u\n",
    "        u=i"
   ]
  },
  {
   "cell_type": "code",
   "execution_count": 32,
   "id": "9f9b7cab",
   "metadata": {},
   "outputs": [
    {
     "name": "stdout",
     "output_type": "stream",
     "text": [
      "Entre no.=153\n",
      "It is armstrong no.\n"
     ]
    }
   ],
   "source": [
    "k=int(input(\"Entre no.=\"))\n",
    "b=0\n",
    "l=k\n",
    "n=len(str(l))\n",
    "while (k>0):\n",
    "    a=k%10\n",
    "    k=int(k/10)\n",
    "    b=b+(a**n)\n",
    "if (b==l):\n",
    "    print(\"It is armstrong no.\")\n",
    "else:\n",
    "    print(\"It is not armstrong no.\")"
   ]
  },
  {
   "cell_type": "code",
   "execution_count": 38,
   "id": "9e425d4a",
   "metadata": {},
   "outputs": [
    {
     "name": "stdout",
     "output_type": "stream",
     "text": [
      "Entre a value till which armstrong no. needs to find=200\n",
      "1\n",
      "2\n",
      "3\n",
      "4\n",
      "5\n",
      "6\n",
      "7\n",
      "8\n",
      "9\n",
      "153\n"
     ]
    }
   ],
   "source": [
    "k=int(input('Entre a value till which armstrong no. needs to find='))\n",
    "for i in range (1,k+1):\n",
    "    n=len(str(i))\n",
    "    b=0\n",
    "    l=i\n",
    "    while l>0:\n",
    "        a=l%10\n",
    "        l=int(l/10)\n",
    "        b=b+a**n\n",
    "    if i==b:\n",
    "        print(i)\n",
    "if k<=0:\n",
    "    print(\"Enter positive non zero no.\")"
   ]
  },
  {
   "cell_type": "code",
   "execution_count": 26,
   "id": "a76b8733",
   "metadata": {},
   "outputs": [
    {
     "name": "stdout",
     "output_type": "stream",
     "text": [
      "Enter Natural no.10\n",
      "Sum of natural no. are = 55.0\n"
     ]
    }
   ],
   "source": [
    "m=int(input(\"Enter Natural no.\"))\n",
    "if m>0:\n",
    "    n= (m)*(m+1)/2\n",
    "    print(\"Sum of natural no. are =\",n)\n",
    "else:\n",
    "    print('enter positive value')"
   ]
  },
  {
   "cell_type": "code",
   "execution_count": null,
   "id": "644ae6ba",
   "metadata": {},
   "outputs": [],
   "source": []
  }
 ],
 "metadata": {
  "kernelspec": {
   "display_name": "Python 3 (ipykernel)",
   "language": "python",
   "name": "python3"
  },
  "language_info": {
   "codemirror_mode": {
    "name": "ipython",
    "version": 3
   },
   "file_extension": ".py",
   "mimetype": "text/x-python",
   "name": "python",
   "nbconvert_exporter": "python",
   "pygments_lexer": "ipython3",
   "version": "3.9.12"
  }
 },
 "nbformat": 4,
 "nbformat_minor": 5
}
